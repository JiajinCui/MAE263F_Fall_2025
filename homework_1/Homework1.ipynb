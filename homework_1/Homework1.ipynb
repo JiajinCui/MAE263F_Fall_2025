{
  "cells": [
    {
      "cell_type": "code",
      "execution_count": 61,
      "metadata": {
        "id": "OJjLxTogLx0l"
      },
      "outputs": [],
      "source": [
        "import numpy as np\n",
        "import matplotlib.pyplot as plt"
      ]
    },
    {
      "cell_type": "markdown",
      "metadata": {
        "id": "b655tWVnOgJv"
      },
      "source": [
        "# Define Gradients and Hessians"
      ]
    },
    {
      "cell_type": "code",
      "execution_count": 62,
      "metadata": {
        "id": "5vTo-bAVLt6m"
      },
      "outputs": [],
      "source": [
        "def gradEs(xk, yk, xkp1, ykp1, l_k, k):\n",
        "    \"\"\"\n",
        "    Calculate the gradient of the stretching energy with respect to the coordinates.\n",
        "\n",
        "    Args:\n",
        "    - xk (float): x coordinate of the current point\n",
        "    - yk (float): y coordinate of the current point\n",
        "    - xkp1 (float): x coordinate of the next point\n",
        "    - ykp1 (float): y coordinate of the next point\n",
        "    - l_k (float): reference length\n",
        "    - EA (float): elastic modulus\n",
        "\n",
        "    Returns:\n",
        "    - F (np.array): Gradient array\n",
        "    \"\"\"\n",
        "    F = np.zeros(4)\n",
        "    F[0] = -(1.0 - np.sqrt((xkp1 - xk)**2.0 + (ykp1 - yk)**2.0) / l_k) * ((xkp1 - xk)**2.0 + (ykp1 - yk)**2.0)**(-0.5) / l_k * (-2.0 * xkp1 + 2.0 * xk)\n",
        "    F[1] = -(0.1e1 - np.sqrt((xkp1 - xk) ** 2 + (ykp1 - yk) ** 2) / l_k) * ((xkp1 - xk) ** 2 + (ykp1 - yk) ** 2) ** (-0.1e1 / 0.2e1) / l_k * (-0.2e1 * ykp1 + 0.2e1 * yk)\n",
        "    F[2] = -(0.1e1 - np.sqrt((xkp1 - xk) ** 2 + (ykp1 - yk) ** 2) / l_k) * ((xkp1 - xk) ** 2 + (ykp1 - yk) ** 2) ** (-0.1e1 / 0.2e1) / l_k * (0.2e1 * xkp1 - 0.2e1 * xk)\n",
        "    F[3] = -(0.1e1 - np.sqrt((xkp1 - xk) ** 2 + (ykp1 - yk) ** 2) / l_k) * ((xkp1 - xk) ** 2 + (ykp1 - yk) ** 2) ** (-0.1e1 / 0.2e1) / l_k * (0.2e1 * ykp1 - 0.2e1 * yk)\n",
        "\n",
        "    F = 0.5 * k * l_k * F  # Scale by k and l_k\n",
        "\n",
        "    return F"
      ]
    },
    {
      "cell_type": "code",
      "execution_count": 63,
      "metadata": {
        "id": "Hl254AJALv4e"
      },
      "outputs": [],
      "source": [
        "def hessEs(xk, yk, xkp1, ykp1, l_k, k):\n",
        "    \"\"\"\n",
        "    This function returns the 4x4 Hessian of the stretching energy E_k^s with\n",
        "    respect to x_k, y_k, x_{k+1}, and y_{k+1}.\n",
        "    \"\"\"\n",
        "    J = np.zeros((4, 4))  # Initialize the Hessian matrix\n",
        "    J11 = (1 / ((xkp1 - xk) ** 2 + (ykp1 - yk) ** 2) / l_k ** 2 * (-2 * xkp1 + 2 * xk) ** 2) / 0.2e1 + (0.1e1 - np.sqrt(((xkp1 - xk) ** 2 + (ykp1 - yk) ** 2)) / l_k) * (((xkp1 - xk) ** 2 + (ykp1 - yk) ** 2) ** (-0.3e1 / 0.2e1)) / l_k * ((-2 * xkp1 + 2 * xk) ** 2) / 0.2e1 - 0.2e1 * (0.1e1 - np.sqrt(((xkp1 - xk) ** 2 + (ykp1 - yk) ** 2)) / l_k) * (((xkp1 - xk) ** 2 + (ykp1 - yk) ** 2) ** (-0.1e1 / 0.2e1)) / l_k\n",
        "    J12 = (1 / ((xkp1 - xk) ** 2 + (ykp1 - yk) ** 2) / l_k ** 2 * (-2 * ykp1 + 2 * yk) * (-2 * xkp1 + 2 * xk)) / 0.2e1 + (0.1e1 - np.sqrt(((xkp1 - xk) ** 2 + (ykp1 - yk) ** 2)) / l_k) * (((xkp1 - xk) ** 2 + (ykp1 - yk) ** 2) ** (-0.3e1 / 0.2e1)) / l_k * (-2 * xkp1 + 2 * xk) * (-2 * ykp1 + 2 * yk) / 0.2e1\n",
        "    J13 = (1 / ((xkp1 - xk) ** 2 + (ykp1 - yk) ** 2) / l_k ** 2 * (2 * xkp1 - 2 * xk) * (-2 * xkp1 + 2 * xk)) / 0.2e1 + (0.1e1 - np.sqrt(((xkp1 - xk) ** 2 + (ykp1 - yk) ** 2)) / l_k) * (((xkp1 - xk) ** 2 + (ykp1 - yk) ** 2) ** (-0.3e1 / 0.2e1)) / l_k * (-2 * xkp1 + 2 * xk) * (2 * xkp1 - 2 * xk) / 0.2e1 + 0.2e1 * (0.1e1 - np.sqrt(((xkp1 - xk) ** 2 + (ykp1 - yk) ** 2)) / l_k) * (((xkp1 - xk) ** 2 + (ykp1 - yk) ** 2) ** (-0.1e1 / 0.2e1)) / l_k\n",
        "    J14 = (1 / ((xkp1 - xk) ** 2 + (ykp1 - yk) ** 2) / l_k ** 2 * (2 * ykp1 - 2 * yk) * (-2 * xkp1 + 2 * xk)) / 0.2e1 + (0.1e1 - np.sqrt(((xkp1 - xk) ** 2 + (ykp1 - yk) ** 2)) / l_k) * (((xkp1 - xk) ** 2 + (ykp1 - yk) ** 2) ** (-0.3e1 / 0.2e1)) / l_k * (-2 * xkp1 + 2 * xk) * (2 * ykp1 - 2 * yk) / 0.2e1\n",
        "    J22 = (1 / ((xkp1 - xk) ** 2 + (ykp1 - yk) ** 2) / l_k ** 2 * (-2 * ykp1 + 2 * yk) ** 2) / 0.2e1 + (0.1e1 - np.sqrt(((xkp1 - xk) ** 2 + (ykp1 - yk) ** 2)) / l_k) * (((xkp1 - xk) ** 2 + (ykp1 - yk) ** 2) ** (-0.3e1 / 0.2e1)) / l_k * ((-2 * ykp1 + 2 * yk) ** 2) / 0.2e1 - 0.2e1 * (0.1e1 - np.sqrt(((xkp1 - xk) ** 2 + (ykp1 - yk) ** 2)) / l_k) * (((xkp1 - xk) ** 2 + (ykp1 - yk) ** 2) ** (-0.1e1 / 0.2e1)) / l_k\n",
        "    J23 = (1 / ((xkp1 - xk) ** 2 + (ykp1 - yk) ** 2) / l_k ** 2 * (2 * xkp1 - 2 * xk) * (-2 * ykp1 + 2 * yk)) / 0.2e1 + (0.1e1 - np.sqrt(((xkp1 - xk) ** 2 + (ykp1 - yk) ** 2)) / l_k) * (((xkp1 - xk) ** 2 + (ykp1 - yk) ** 2) ** (-0.3e1 / 0.2e1)) / l_k * (-2 * ykp1 + 2 * yk) * (2 * xkp1 - 2 * xk) / 0.2e1\n",
        "    J24 = (1 / ((xkp1 - xk) ** 2 + (ykp1 - yk) ** 2) / l_k ** 2 * (2 * ykp1 - 2 * yk) * (-2 * ykp1 + 2 * yk)) / 0.2e1 + (0.1e1 - np.sqrt(((xkp1 - xk) ** 2 + (ykp1 - yk) ** 2)) / l_k) * (((xkp1 - xk) ** 2 + (ykp1 - yk) ** 2) ** (-0.3e1 / 0.2e1)) / l_k * (-2 * ykp1 + 2 * yk) * (2 * ykp1 - 2 * yk) / 0.2e1 + 0.2e1 * (0.1e1 - np.sqrt(((xkp1 - xk) ** 2 + (ykp1 - yk) ** 2)) / l_k) * (((xkp1 - xk) ** 2 + (ykp1 - yk) ** 2) ** (-0.1e1 / 0.2e1)) / l_k\n",
        "    J33 = (1 / ((xkp1 - xk) ** 2 + (ykp1 - yk) ** 2) / l_k ** 2 * (2 * xkp1 - 2 * xk) ** 2) / 0.2e1 + (0.1e1 - np.sqrt(((xkp1 - xk) ** 2 + (ykp1 - yk) ** 2)) / l_k) * (((xkp1 - xk) ** 2 + (ykp1 - yk) ** 2) ** (-0.3e1 / 0.2e1)) / l_k * ((2 * xkp1 - 2 * xk) ** 2) / 0.2e1 - 0.2e1 * (0.1e1 - np.sqrt(((xkp1 - xk) ** 2 + (ykp1 - yk) ** 2)) / l_k) * (((xkp1 - xk) ** 2 + (ykp1 - yk) ** 2) ** (-0.1e1 / 0.2e1)) / l_k\n",
        "    J34 = (1 / ((xkp1 - xk) ** 2 + (ykp1 - yk) ** 2) / l_k ** 2 * (2 * ykp1 - 2 * yk) * (2 * xkp1 - 2 * xk)) / 0.2e1 + (0.1e1 - np.sqrt(((xkp1 - xk) ** 2 + (ykp1 - yk) ** 2)) / l_k) * (((xkp1 - xk) ** 2 + (ykp1 - yk) ** 2) ** (-0.3e1 / 0.2e1)) / l_k * (2 * xkp1 - 2 * xk) * (2 * ykp1 - 2 * yk) / 0.2e1\n",
        "    J44 = (1 / ((xkp1 - xk) ** 2 + (ykp1 - yk) ** 2) / l_k ** 2 * (2 * ykp1 - 2 * yk) ** 2) / 0.2e1 + (0.1e1 - np.sqrt(((xkp1 - xk) ** 2 + (ykp1 - yk) ** 2)) / l_k) * (((xkp1 - xk) ** 2 + (ykp1 - yk) ** 2) ** (-0.3e1 / 0.2e1)) / l_k * ((2 * ykp1 - 2 * yk) ** 2) / 0.2e1 - 0.2e1 * (0.1e1 - np.sqrt(((xkp1 - xk) ** 2 + (ykp1 - yk) ** 2)) / l_k) * (((xkp1 - xk) ** 2 + (ykp1 - yk) ** 2) ** (-0.1e1 / 0.2e1)) / l_k\n",
        "\n",
        "    J = np.array([[J11, J12, J13, J14],\n",
        "                   [J12, J22, J23, J24],\n",
        "                   [J13, J23, J33, J34],\n",
        "                   [J14, J24, J34, J44]])\n",
        "\n",
        "    J *= 0.5 * k * l_k\n",
        "\n",
        "    return J"
      ]
    },
    {
      "cell_type": "markdown",
      "metadata": {
        "id": "iO1ZCUrRNGCi"
      },
      "source": [
        "# Write Nodes and Properties to Files"
      ]
    },
    {
      "cell_type": "code",
      "execution_count": 64,
      "metadata": {
        "colab": {
          "base_uri": "https://localhost:8080/"
        },
        "id": "4c0e98d8",
        "outputId": "9c0878b7-2618-410b-bc30-994dbb550f84"
      },
      "outputs": [
        {
          "name": "stdout",
          "output_type": "stream",
          "text": [
            "Overwriting nodes.txt\n"
          ]
        }
      ],
      "source": [
        "%%writefile nodes.txt\n",
        "0, 0\n",
        "1, 0\n",
        "2, 0\n",
        "1, -1"
      ]
    },
    {
      "cell_type": "code",
      "execution_count": 65,
      "metadata": {
        "colab": {
          "base_uri": "https://localhost:8080/"
        },
        "id": "JonazYMRNoa2",
        "outputId": "6e95a9f2-62cc-4eb6-a1f6-725301ab2878"
      },
      "outputs": [
        {
          "name": "stdout",
          "output_type": "stream",
          "text": [
            "Overwriting springs.txt\n"
          ]
        }
      ],
      "source": [
        "%%writefile springs.txt\n",
        "0, 1, 10\n",
        "1, 2, 20\n",
        "0, 3, 5\n",
        "2, 3, 5"
      ]
    },
    {
      "cell_type": "markdown",
      "metadata": {
        "id": "plt9vgHXN5FM"
      },
      "source": [
        "# Read the nodes, springs, and properties"
      ]
    },
    {
      "cell_type": "code",
      "execution_count": 66,
      "metadata": {
        "colab": {
          "base_uri": "https://localhost:8080/",
          "height": 106
        },
        "id": "cd722530",
        "outputId": "41daf10a-014c-49d3-8835-10426743eb9f"
      },
      "outputs": [
        {
          "name": "stdout",
          "output_type": "stream",
          "text": [
            "Node coordinates successfully loaded into a numpy matrix.\n"
          ]
        },
        {
          "data": {
            "text/plain": [
              "array([[ 0.,  0.],\n",
              "       [ 1.,  0.],\n",
              "       [ 2.,  0.],\n",
              "       [ 1., -1.]])"
            ]
          },
          "metadata": {},
          "output_type": "display_data"
        }
      ],
      "source": [
        "nodes_file_path = 'nodes.txt'\n",
        "node_coordinates = []\n",
        "\n",
        "try:\n",
        "    with open(nodes_file_path, 'r') as f:\n",
        "        for line in f:\n",
        "            # Split each line by comma and remove leading/trailing whitespace\n",
        "            parts = [part.strip() for part in line.split(',')]\n",
        "            # Assuming the format is node number, x, y\n",
        "            # We only need x and y, which are the second and third elements (index 1 and 2)\n",
        "            if len(parts) == 2:\n",
        "                try:\n",
        "                    x = float(parts[0])\n",
        "                    y = float(parts[1])\n",
        "                    node_coordinates.append([x, y])\n",
        "                except ValueError:\n",
        "                    print(f\"Skipping line due to non-numeric coordinates: {line.strip()}\")\n",
        "            else:\n",
        "                print(f\"Skipping line due to incorrect format: {line.strip()}\")\n",
        "\n",
        "    # Convert the list of coordinates to a NumPy array\n",
        "    node_matrix = np.array(node_coordinates)\n",
        "\n",
        "    print(\"Node coordinates successfully loaded into a numpy matrix.\")\n",
        "    display(node_matrix)\n",
        "\n",
        "except FileNotFoundError:\n",
        "    print(f\"Error: The file '{nodes_file_path}' was not found.\")\n",
        "except Exception as e:\n",
        "    print(f\"An error occurred: {e}\")"
      ]
    },
    {
      "cell_type": "code",
      "execution_count": 67,
      "metadata": {
        "colab": {
          "base_uri": "https://localhost:8080/",
          "height": 142
        },
        "id": "4ax9XxLbPfN5",
        "outputId": "618738c0-1157-47db-9785-d67ac3efec8e"
      },
      "outputs": [
        {
          "name": "stdout",
          "output_type": "stream",
          "text": [
            "Spring indices successfully loaded into a numpy matrix.\n"
          ]
        },
        {
          "data": {
            "text/plain": [
              "array([[0., 1., 2., 3.],\n",
              "       [2., 3., 4., 5.],\n",
              "       [0., 1., 6., 7.],\n",
              "       [4., 5., 6., 7.]])"
            ]
          },
          "metadata": {},
          "output_type": "display_data"
        },
        {
          "name": "stdout",
          "output_type": "stream",
          "text": [
            "Spring stiffnesses successfully loaded into a numpy matrix.\n"
          ]
        },
        {
          "data": {
            "text/plain": [
              "array([10., 20.,  5.,  5.])"
            ]
          },
          "metadata": {},
          "output_type": "display_data"
        }
      ],
      "source": [
        "springs_file_path = 'springs.txt'\n",
        "index_info = []\n",
        "stiffness_info = []\n",
        "\n",
        "try:\n",
        "    with open(springs_file_path, 'r') as f:\n",
        "        for line in f:\n",
        "            # Split each line by comma and remove leading/trailing whitespace\n",
        "            parts = [part.strip() for part in line.split(',')]\n",
        "            # Assuming the format is spring number, first node, second node, stiffness\n",
        "            if len(parts) == 3:\n",
        "                try:\n",
        "                    first_node_index = float(parts[0])\n",
        "                    second_node_index = float(parts[1])\n",
        "                    stiffness = float(parts[2])\n",
        "                    index_info.append([2*first_node_index, 2*first_node_index+1, 2*second_node_index, 2*second_node_index+1])\n",
        "                    stiffness_info.append(stiffness)\n",
        "                except ValueError:\n",
        "                    print(f\"Skipping line due to non-numeric coordinates: {line.strip()}\")\n",
        "            else:\n",
        "                print(f\"Skipping line due to incorrect format: {line.strip()}\")\n",
        "\n",
        "    # Convert the list of coordinates to a NumPy array\n",
        "    index_matrix = np.array(index_info)\n",
        "    stiffness_matrix = np.array(stiffness_info)\n",
        "\n",
        "    print(\"Spring indices successfully loaded into a numpy matrix.\")\n",
        "    display(index_matrix)\n",
        "\n",
        "    print(\"Spring stiffnesses successfully loaded into a numpy matrix.\")\n",
        "    display(stiffness_matrix)\n",
        "\n",
        "except FileNotFoundError:\n",
        "    print(f\"Error: The file '{springs_file_path}' was not found.\")\n",
        "except Exception as e:\n",
        "    print(f\"An error occurred: {e}\")"
      ]
    },
    {
      "cell_type": "markdown",
      "metadata": {
        "id": "8FpOch2VGRo_"
      },
      "source": [
        "# Equations of motion and Jacobian"
      ]
    },
    {
      "cell_type": "code",
      "execution_count": 68,
      "metadata": {
        "id": "9j1TCk36IRAs"
      },
      "outputs": [],
      "source": [
        "def getFexternal(m):\n",
        "\n",
        "  # Input: mass (m) is a vector of size ndof ( = 2 times number of nodes)\n",
        "  # Output: weight (W) is a vector of same size\n",
        "\n",
        "  W = np.zeros_like(m)\n",
        "  for i in range(len(m) // 2 ):\n",
        "    W[2 * i] = 0.0\n",
        "    W[2 * i + 1] = m[2 * i + 1] * (-9.8)\n",
        "  return W"
      ]
    },
    {
      "cell_type": "code",
      "execution_count": 69,
      "metadata": {
        "id": "5g-DI_Nt_81D"
      },
      "outputs": [],
      "source": [
        "def getForceJacobian(x_new, x_old, u_old, stiffness_matrix, index_matrix, m, dt, l_k):\n",
        "\n",
        "  ndof = x_new.shape[0]\n",
        "\n",
        "  # Inertia\n",
        "  f_inertia = m/dt * ((x_new - x_old)/dt - u_old)\n",
        "  J_inertia = np.diag(m) / dt ** 2\n",
        "\n",
        "  # Spring\n",
        "  f_spring = np.zeros_like(x_new)\n",
        "  J_spring = np.zeros((ndof,ndof))\n",
        "  for i in range(stiffness_matrix.shape[0]):\n",
        "    ind = index_matrix[i].astype(int)\n",
        "    xi = x_new[ind[0]]\n",
        "    yi = x_new[ind[1]]\n",
        "    xj = x_new[ind[2]]\n",
        "    yj = x_new[ind[3]]\n",
        "    stiffness = stiffness_matrix[i]\n",
        "    f_spring[ind] += gradEs(xi, yi, xj, yj, l_k[i], stiffness)\n",
        "    J_spring[np.ix_(ind, ind)] += hessEs(xi, yi, xj, yj, l_k[i], stiffness)\n",
        "\n",
        "  # External force\n",
        "  f_ext = getFexternal(m)\n",
        "  J_ext = np.zeros((ndof,ndof))\n",
        "\n",
        "  f = f_inertia + f_spring - f_ext\n",
        "  J = J_inertia + J_spring - J_ext\n",
        "\n",
        "  return f, J"
      ]
    },
    {
      "cell_type": "markdown",
      "metadata": {
        "id": "BsOV2Mv_GXB5"
      },
      "source": [
        "# Preparation at t = 0"
      ]
    },
    {
      "cell_type": "code",
      "execution_count": 70,
      "metadata": {
        "id": "YAiehB4uGb_c"
      },
      "outputs": [],
      "source": [
        "N = node_matrix.shape[0] # Number of nodes\n",
        "ndof = 2 * N # Number of degrees of freedom\n",
        "\n",
        "# Initialize positions, velocities, and accelerations\n",
        "x_old = np.zeros(ndof)\n",
        "u_old = np.zeros(ndof)\n",
        "a_old = np.zeros(ndof)\n",
        "\n",
        "# Build the position (DOF) vector. Velocity and acceleration remains zero\n",
        "for i in range(N):\n",
        "  x_old[2*i] = node_matrix[i][0]\n",
        "  x_old[2*i+1] = node_matrix[i][1]\n",
        "\n",
        "# Every spring has a rest length\n",
        "l_k = np.zeros_like(stiffness_matrix)\n",
        "for i in range(stiffness_matrix.shape[0]):\n",
        "  ind = index_matrix[i].astype(int)  # Convert indices to integers\n",
        "  xi = x_old[ind[0]]\n",
        "  yi = x_old[ind[1]]\n",
        "  xj = x_old[ind[2]]\n",
        "  yj = x_old[ind[3]]\n",
        "  l_k[i] = np.sqrt((xj - xi)**2 + (yj - yi)**2)"
      ]
    },
    {
      "cell_type": "markdown",
      "metadata": {
        "id": "zA_4ERCOF_Cp"
      },
      "source": [
        "**Mass and Weight**"
      ]
    },
    {
      "cell_type": "code",
      "execution_count": 71,
      "metadata": {
        "id": "VI_5iWTVF-gZ"
      },
      "outputs": [],
      "source": [
        "# Mass\n",
        "m = np.zeros(ndof)\n",
        "for i in range(ndof):\n",
        "  m[i] = 1.0\n",
        "\n",
        "# Weight\n",
        "W = getFexternal(m)"
      ]
    },
    {
      "cell_type": "markdown",
      "metadata": {
        "id": "bBnBv0JrGZuz"
      },
      "source": [
        "# Simulation Loop"
      ]
    },
    {
      "cell_type": "code",
      "execution_count": 72,
      "metadata": {
        "id": "9yQy2VjrLWGO"
      },
      "outputs": [],
      "source": [
        "# Integrator\n",
        "def myInt(t_new, x_old, u_old, free_DOF, stiffness_matrix, index_matrix, m, dt):\n",
        "\n",
        "  # Guess solution for x_new\n",
        "  x_new = x_old.copy() # Start with a copy of x_old as the initial guess\n",
        "\n",
        "  eps = 1.0e-6 # tolerance\n",
        "  err = eps * 100  # initialize to a large value\n",
        "\n",
        "  # Newton-Raphson method\n",
        "  while err > eps:\n",
        "    f, J = getForceJacobian(x_new, x_old, u_old, stiffness_matrix, index_matrix, m, dt, l_k)\n",
        "\n",
        "    # Extract free DOFs\n",
        "    J_free = J[np.ix_(free_DOF, free_DOF)]\n",
        "    f_free = f[free_DOF]\n",
        "\n",
        "    # Solve for deltaX of free DOFs\n",
        "    deltaX_free = np.linalg.solve(J_free, f_free)\n",
        "\n",
        "    # Construct full deltaX vector\n",
        "    deltaX = np.zeros_like(x_new)\n",
        "    deltaX[free_DOF] = deltaX_free\n",
        "\n",
        "    # Update x_new\n",
        "    x_new = x_new - deltaX\n",
        "  \n",
        "    # Calculate error based on the force in free DOFs\n",
        "    err = np.linalg.norm(f_free)\n",
        "\n",
        "  u_new = (x_new - x_old) / dt\n",
        "\n",
        "  return x_new, u_new"
      ]
    },
    {
      "cell_type": "code",
      "execution_count": 73,
      "metadata": {},
      "outputs": [],
      "source": [
        "# Integrator (explicit Euler, update free DOFs only)\n",
        "def myInt_explicit(x_old, u_old, free_DOF, stiffness_matrix, index_matrix, m, dt):\n",
        "    import numpy as np\n",
        "\n",
        "    ndof  = x_old.size\n",
        "    free  = np.array(free_DOF, dtype=int)\n",
        "    fixed = np.setdiff1d(np.arange(ndof), free)\n",
        "\n",
        "    # --- internal spring forces at x_old ---\n",
        "    f_spring = np.zeros_like(x_old)\n",
        "    for i in range(stiffness_matrix.shape[0]):\n",
        "        ind = index_matrix[i].astype(int)\n",
        "        xi, yi, xj, yj = x_old[ind[0]], x_old[ind[1]], x_old[ind[2]], x_old[ind[3]]\n",
        "        k_ij = stiffness_matrix[i]\n",
        "        f_spring[ind] += gradEs(xi, yi, xj, yj, l_k[i], k_ij)\n",
        "\n",
        "    # --- external forces (e.g., gravity) ---\n",
        "    f_ext = getFexternal(m)\n",
        "\n",
        "    # --- acceleration on free DOFs: M a = f_ext - f_spring ---\n",
        "    a = np.zeros_like(u_old)\n",
        "    a[free] = (f_ext[free] - f_spring[free]) / m[free]\n",
        "\n",
        "    # --- explicit Euler updates (true forward Euler) ---\n",
        "    x_new = x_old.copy()\n",
        "    u_new = u_old.copy()\n",
        "    x_new[free] = x_old[free] + dt * u_old[free]   # position uses u_old\n",
        "    u_new[free] = u_old[free] + dt * a[free]\n",
        "\n",
        "    # --- clamp fixed DOFs at their anchored positions ---\n",
        "    if fixed.size:\n",
        "        x_new[fixed] = x_old[fixed]  # keep original coordinates\n",
        "        u_new[fixed] = 0.0           # zero velocity\n",
        "\n",
        "    return x_new, u_new\n"
      ]
    },
    {
      "cell_type": "markdown",
      "metadata": {
        "id": "s9CMEkqSYXSO"
      },
      "source": [
        "**Plotting Function**"
      ]
    },
    {
      "cell_type": "code",
      "execution_count": 74,
      "metadata": {
        "id": "GiAeUvg2YaKh"
      },
      "outputs": [],
      "source": [
        "def plot(x, index_matrix, t):\n",
        "  plt.figure() # Create a new figure for each plot\n",
        "  plt.title(f'Time: {t:.2f} second - Implicit Euler') # Add a title with the current time\n",
        "  for i in range(index_matrix.shape[0]):\n",
        "    ind = index_matrix[i].astype(int)  # Convert indices to integers\n",
        "    xi = x[ind[0]]\n",
        "    yi = x[ind[1]]\n",
        "    xj = x[ind[2]]\n",
        "    yj = x[ind[3]]\n",
        "    plt.plot([xi, xj], [yi, yj], 'bo-') # Plot a blue line with circles at the nodes\n",
        "  plt.xlabel('x')\n",
        "  plt.ylabel('y')\n",
        "  plt.axis('equal') # Ensure equal scaling for x and y axes\n",
        "  plt.grid(True)\n",
        "  plt.show()"
      ]
    },
    {
      "cell_type": "markdown",
      "metadata": {
        "id": "1_2MJKuDYO1t"
      },
      "source": [
        "**Main Simulation Loop**"
      ]
    },
    {
      "cell_type": "code",
      "execution_count": 75,
      "metadata": {
        "colab": {
          "base_uri": "https://localhost:8080/",
          "height": 1000
        },
        "id": "SpSNeXcAK5a8",
        "outputId": "91449cb6-cc29-44db-eda7-3127166f2051"
      },
      "outputs": [
        {
          "data": {
            "image/png": "[encoded data removed]",
            "text/plain": [
              "<Figure size 640x480 with 1 Axes>"
            ]
          },
          "metadata": {},
          "output_type": "display_data"
        },
        {
          "data": {
            "image/png": "[encoded data removed]",
            "text/plain": [
              "<Figure size 640x480 with 1 Axes>"
            ]
          },
          "metadata": {},
          "output_type": "display_data"
        },
        {
          "data": {
            "image/png": "[encoded data removed]",
            "text/plain": [
              "<Figure size 640x480 with 1 Axes>"
            ]
          },
          "metadata": {},
          "output_type": "display_data"
        }
      ],
      "source": [
        "dt = 0.1 # Time step size\n",
        "maxTime = 100 # total time of simulation\n",
        "t = np.arange(0, maxTime + dt, dt)\n",
        "\n",
        "# free indices\n",
        "free_DOF = [2,3,6,7]\n",
        "\n",
        "# Container to store y-coordinate of middle node\n",
        "y_middle = np.zeros(len(t))\n",
        "y_middle[0] = x_old[3] # y-coordinate of middle node\n",
        "\n",
        "y_middle_node3= np.zeros(len(t))\n",
        "y_middle_node3[0] = x_old[7] # y-coordinate of middle node 3\n",
        "\n",
        "for k in range(len(t)-1):\n",
        "  t_new = t[k+1]\n",
        "\n",
        "  x_new, u_new = myInt(t_new, x_old, u_old, free_DOF, stiffness_matrix, index_matrix, m, dt)\n",
        "  if k % 1334 == 0:\n",
        "    plot(x_new, index_matrix, t[k])\n",
        "  y_middle[k+1] = x_new[3]\n",
        "  y_middle_node3[k+1] = x_new[7]\n",
        "\n",
        "  x_old = x_new\n",
        "  u_old = u_new\n",
        "\n",
        "# Plot\n",
        "plt.figure()\n",
        "plt.plot(t, y_middle, 'ro-')\n",
        "plt.xlabel('Time (s)' )\n",
        "plt.ylabel('Middle Node 1 y-coordinate (m)')\n",
        "plt.title('Middle Node 1 y-coordinate vs. Time')\n",
        "plt.grid(True)\n",
        "plt.show()\n",
        "\n",
        "plt.figure()\n",
        "plt.plot(t, y_middle_node3, 'ro-')\n",
        "plt.xlabel('Time (s)')\n",
        "plt.ylabel('Middle Node 3 y-coordinate (m)')\n",
        "plt.title('Middle Node 3 y-coordinate vs. Time')\n",
        "plt.grid(True)\n",
        "plt.show()"
      ]
    },
    {
      "cell_type": "code",
      "execution_count": null,
      "metadata": {
        "id": "a7rDc3rcNxAi"
      },
      "outputs": [],
      "source": []
    }
  ],
  "metadata": {
    "colab": {
      "collapsed_sections": [
        "b655tWVnOgJv"
      ],
      "provenance": []
    },
    "kernelspec": {
      "display_name": "Python 3",
      "name": "python3"
    },
    "language_info": {
      "codemirror_mode": {
        "name": "ipython",
        "version": 3
      },
      "file_extension": ".py",
      "mimetype": "text/x-python",
      "name": "python",
      "nbconvert_exporter": "python",
      "pygments_lexer": "ipython3",
      "version": "3.10.13"
    }
  },
  "nbformat": 4,
  "nbformat_minor": 0
}
